{
  "nbformat": 4,
  "nbformat_minor": 0,
  "metadata": {
    "colab": {
      "name": "Level4000.ipynb",
      "version": "0.3.2",
      "provenance": [],
      "collapsed_sections": [],
      "toc_visible": true,
      "include_colab_link": true
    },
    "kernelspec": {
      "name": "python3",
      "display_name": "Python 3"
    },
    "accelerator": "GPU"
  },
  "cells": [
    {
      "cell_type": "markdown",
      "metadata": {
        "id": "view-in-github",
        "colab_type": "text"
      },
      "source": [
        "<a href=\"https://colab.research.google.com/github/santoshmn26/Intro-to-YOLO/blob/master/Level4000.ipynb\" target=\"_parent\"><img src=\"https://colab.research.google.com/assets/colab-badge.svg\" alt=\"Open In Colab\"/></a>"
      ]
    },
    {
      "metadata": {
        "id": "WKZrIPDQjiYk",
        "colab_type": "code",
        "colab": {}
      },
      "cell_type": "code",
      "source": [
        "rm -r sample_data\n"
      ],
      "execution_count": 0,
      "outputs": []
    },
    {
      "metadata": {
        "id": "4EuW3wUPXt0F",
        "colab_type": "code",
        "colab": {
          "base_uri": "https://localhost:8080/",
          "height": 35
        },
        "outputId": "766c450b-e95b-486b-ff1d-739f5c7ff8c5"
      },
      "cell_type": "code",
      "source": [
        "!ls"
      ],
      "execution_count": 11,
      "outputs": [
        {
          "output_type": "stream",
          "text": [
            "darkflow  darkflow-master_final_annotation.zip\tdarkflow-master.zip\n"
          ],
          "name": "stdout"
        }
      ]
    },
    {
      "metadata": {
        "id": "ba21hRD_kiVr",
        "colab_type": "code",
        "colab": {}
      },
      "cell_type": "code",
      "source": [
        "!git clone https://github.com/thtrieu/darkflow"
      ],
      "execution_count": 0,
      "outputs": []
    },
    {
      "metadata": {
        "id": "fa6sCb_GXvWQ",
        "colab_type": "code",
        "colab": {}
      },
      "cell_type": "code",
      "source": [
        "!unzip darkflow-master_final_annotation.zip\n"
      ],
      "execution_count": 0,
      "outputs": []
    },
    {
      "metadata": {
        "id": "7t_l0GN_X5XP",
        "colab_type": "code",
        "colab": {}
      },
      "cell_type": "code",
      "source": [
        "mv tiny-yolo-voc-5c.cfg darkflow/cfg"
      ],
      "execution_count": 0,
      "outputs": []
    },
    {
      "metadata": {
        "id": "n0_KS2jgYOse",
        "colab_type": "code",
        "colab": {
          "base_uri": "https://localhost:8080/",
          "height": 35
        },
        "outputId": "b87458cb-8c2f-40c6-a514-b2a1c8da0225"
      },
      "cell_type": "code",
      "source": [
        "%cd darkflow/"
      ],
      "execution_count": 12,
      "outputs": [
        {
          "output_type": "stream",
          "text": [
            "/content/darkflow\n"
          ],
          "name": "stdout"
        }
      ]
    },
    {
      "metadata": {
        "id": "OYYx6BfuYOmF",
        "colab_type": "code",
        "colab": {
          "base_uri": "https://localhost:8080/",
          "height": 124
        },
        "outputId": "8de7ed6b-a1c6-4c7c-952f-ac3681519f19"
      },
      "cell_type": "code",
      "source": [
        "!pip install cython\n"
      ],
      "execution_count": 40,
      "outputs": [
        {
          "output_type": "stream",
          "text": [
            "Collecting cython\n",
            "\u001b[?25l  Downloading https://files.pythonhosted.org/packages/64/3f/cac281f3f019b825bbc03fa8cb7eb03d9c355f4aa9eef978279a4966cb21/Cython-0.29-cp36-cp36m-manylinux1_x86_64.whl (2.1MB)\n",
            "\u001b[K    100% |████████████████████████████████| 2.1MB 8.4MB/s \n",
            "\u001b[?25hInstalling collected packages: cython\n",
            "Successfully installed cython-0.29\n"
          ],
          "name": "stdout"
        }
      ]
    },
    {
      "metadata": {
        "id": "iwV_FmHraqPK",
        "colab_type": "code",
        "colab": {
          "base_uri": "https://localhost:8080/",
          "height": 35
        },
        "outputId": "326a4102-3a07-4fa7-d26e-5b611522a8ca"
      },
      "cell_type": "code",
      "source": [
        "!python flow --model cfg/tiny-yolo-voc-5c.cfg --load -1 --train --annotation annotation --dataset dataset --epoch 500\n"
      ],
      "execution_count": 60,
      "outputs": [
        {
          "output_type": "stream",
          "text": [
            "python3: can't open file 'flow': [Errno 2] No such file or directory\n"
          ],
          "name": "stdout"
        }
      ]
    },
    {
      "metadata": {
        "id": "zztFII2OYOCe",
        "colab_type": "code",
        "colab": {}
      },
      "cell_type": "code",
      "source": [
        "!python3 setup.py build_ext --inplace"
      ],
      "execution_count": 0,
      "outputs": []
    },
    {
      "metadata": {
        "id": "VDptjjT0bR82",
        "colab_type": "code",
        "colab": {
          "base_uri": "https://localhost:8080/",
          "height": 35
        },
        "outputId": "0c0e09ae-7a6f-4669-8406-1a2af1b0b3bc"
      },
      "cell_type": "code",
      "source": [
        "%cd darkflow/"
      ],
      "execution_count": 61,
      "outputs": [
        {
          "output_type": "stream",
          "text": [
            "/content/darkflow\n"
          ],
          "name": "stdout"
        }
      ]
    },
    {
      "metadata": {
        "id": "cHieezHVriOo",
        "colab_type": "code",
        "colab": {
          "base_uri": "https://localhost:8080/",
          "height": 69
        },
        "outputId": "7eaffec6-8d84-4387-d3fc-f522136f919d"
      },
      "cell_type": "code",
      "source": [
        "!ls"
      ],
      "execution_count": 64,
      "outputs": [
        {
          "output_type": "stream",
          "text": [
            "annotation  cfg       dataset\tlabels.txt   README.md\t test\n",
            "bin\t    ckpt      demo.gif\tLICENSE      sample_img\n",
            "build\t    darkflow  flow\tpreview.png  setup.py\n"
          ],
          "name": "stdout"
        }
      ]
    },
    {
      "metadata": {
        "id": "ogE7l5rDc1VD",
        "colab_type": "code",
        "colab": {
          "base_uri": "https://localhost:8080/",
          "height": 5567
        },
        "outputId": "5ae17deb-0339-43ba-b6e8-23158738931e"
      },
      "cell_type": "code",
      "source": [
        "!python flow --model cfg/tiny-yolo-voc-5c.cfg --load -1 --train --annotation annotation --dataset dataset --epoch 500\n"
      ],
      "execution_count": 62,
      "outputs": [
        {
          "output_type": "stream",
          "text": [
            "\n",
            "Parsing cfg/tiny-yolo-voc-5c.cfg\n",
            "Loading None ...\n",
            "Finished in 7.581710815429688e-05s\n",
            "\n",
            "Building net ...\n",
            "Source | Train? | Layer description                | Output size\n",
            "-------+--------+----------------------------------+---------------\n",
            "       |        | input                            | (?, 416, 416, 3)\n",
            " Init  |  Yep!  | conv 3x3p1_1  +bnorm  leaky      | (?, 416, 416, 16)\n",
            " Load  |  Yep!  | maxp 2x2p0_2                     | (?, 208, 208, 16)\n",
            " Init  |  Yep!  | conv 3x3p1_1  +bnorm  leaky      | (?, 208, 208, 32)\n",
            " Load  |  Yep!  | maxp 2x2p0_2                     | (?, 104, 104, 32)\n",
            " Init  |  Yep!  | conv 3x3p1_1  +bnorm  leaky      | (?, 104, 104, 64)\n",
            " Load  |  Yep!  | maxp 2x2p0_2                     | (?, 52, 52, 64)\n",
            " Init  |  Yep!  | conv 3x3p1_1  +bnorm  leaky      | (?, 52, 52, 128)\n",
            " Load  |  Yep!  | maxp 2x2p0_2                     | (?, 26, 26, 128)\n",
            " Init  |  Yep!  | conv 3x3p1_1  +bnorm  leaky      | (?, 26, 26, 256)\n",
            " Load  |  Yep!  | maxp 2x2p0_2                     | (?, 13, 13, 256)\n",
            " Init  |  Yep!  | conv 3x3p1_1  +bnorm  leaky      | (?, 13, 13, 512)\n",
            " Load  |  Yep!  | maxp 2x2p0_1                     | (?, 13, 13, 512)\n",
            " Init  |  Yep!  | conv 3x3p1_1  +bnorm  leaky      | (?, 13, 13, 1024)\n",
            " Init  |  Yep!  | conv 3x3p1_1  +bnorm  leaky      | (?, 13, 13, 1024)\n",
            " Init  |  Yep!  | conv 1x1p0_1    linear           | (?, 13, 13, 50)\n",
            "-------+--------+----------------------------------+---------------\n",
            "Running entirely on CPU\n",
            "cfg/tiny-yolo-voc-5c.cfg loss hyper-parameters:\n",
            "\tH       = 13\n",
            "\tW       = 13\n",
            "\tbox     = 5\n",
            "\tclasses = 5\n",
            "\tscales  = [1.0, 5.0, 1.0, 1.0]\n",
            "Building cfg/tiny-yolo-voc-5c.cfg loss\n",
            "Building cfg/tiny-yolo-voc-5c.cfg train op\n",
            "2018-10-29 15:31:30.438945: I tensorflow/core/common_runtime/gpu/gpu_device.cc:982] Device interconnect StreamExecutor with strength 1 edge matrix:\n",
            "2018-10-29 15:31:30.439002: I tensorflow/core/common_runtime/gpu/gpu_device.cc:988]      \n",
            "Loading from ./ckpt/tiny-yolo-voc-5c-4000\n",
            "Finished in 4.659161329269409s\n",
            "\n",
            "Enter training ...\n",
            "\n",
            "cfg/tiny-yolo-voc-5c.cfg parsing annotation\n",
            "Parsing for ['hat', 'boots', 'vest', 'person', 'gloves'] \n",
            "[====================>]100%  data_set588.xml\n",
            "Statistics:\n",
            "hat: 1730\n",
            "person: 1700\n",
            "gloves: 223\n",
            "vest: 755\n",
            "boots: 1\n",
            "Dataset size: 996\n",
            "Dataset of 996 instance(s)\n",
            "Training statistics: \n",
            "\tLearning rate : 1e-05\n",
            "\tBatch size    : 16\n",
            "\tEpoch number  : 500\n",
            "\tBackup every  : 2000\n",
            "step 4001 - loss 5.924471378326416 - moving ave loss 5.924471378326416\n",
            "step 4002 - loss 4.588923931121826 - moving ave loss 5.790916633605957\n",
            "step 4003 - loss 5.721074104309082 - moving ave loss 5.783932380676269\n",
            "step 4004 - loss 5.742106914520264 - moving ave loss 5.779749834060668\n",
            "step 4005 - loss 5.906247138977051 - moving ave loss 5.792399564552307\n",
            "step 4006 - loss 4.626115322113037 - moving ave loss 5.675771140308379\n",
            "step 4007 - loss 4.658823490142822 - moving ave loss 5.574076375291823\n",
            "step 4008 - loss 4.126792907714844 - moving ave loss 5.429348028534125\n",
            "step 4009 - loss 5.089234352111816 - moving ave loss 5.395336660891895\n",
            "step 4010 - loss 6.629425048828125 - moving ave loss 5.518745499685519\n",
            "step 4011 - loss 5.275963306427002 - moving ave loss 5.494467280359667\n",
            "step 4012 - loss 5.768807888031006 - moving ave loss 5.521901341126801\n",
            "step 4013 - loss 5.328080177307129 - moving ave loss 5.502519224744835\n",
            "step 4014 - loss 6.964591979980469 - moving ave loss 5.648726500268398\n",
            "step 4015 - loss 5.109667778015137 - moving ave loss 5.594820628043072\n",
            "step 4016 - loss 4.623046398162842 - moving ave loss 5.497643205055049\n",
            "step 4017 - loss 6.368328094482422 - moving ave loss 5.584711693997788\n",
            "step 4018 - loss 5.110848903656006 - moving ave loss 5.537325414963609\n",
            "step 4019 - loss 5.276219367980957 - moving ave loss 5.511214810265344\n",
            "step 4020 - loss 5.475037574768066 - moving ave loss 5.5075970867156165\n",
            "step 4021 - loss 7.881250381469727 - moving ave loss 5.7449624161910275\n",
            "step 4022 - loss 5.457483291625977 - moving ave loss 5.7162145037345224\n",
            "step 4023 - loss 3.9965171813964844 - moving ave loss 5.544244771500719\n",
            "step 4024 - loss 5.420269966125488 - moving ave loss 5.531847290963197\n",
            "step 4025 - loss 3.8202428817749023 - moving ave loss 5.360686850044368\n",
            "step 4026 - loss 4.713432788848877 - moving ave loss 5.295961443924819\n",
            "step 4027 - loss 3.608254909515381 - moving ave loss 5.127190790483875\n",
            "step 4028 - loss 4.324254989624023 - moving ave loss 5.046897210397891\n",
            "step 4029 - loss 4.446263790130615 - moving ave loss 4.986833868371163\n",
            "step 4030 - loss 6.495589256286621 - moving ave loss 5.13770940716271\n",
            "step 4031 - loss 4.538254737854004 - moving ave loss 5.077763940231839\n",
            "step 4032 - loss 5.059404373168945 - moving ave loss 5.07592798352555\n",
            "step 4033 - loss 5.871423244476318 - moving ave loss 5.155477509620627\n",
            "step 4034 - loss 4.890459060668945 - moving ave loss 5.128975664725458\n",
            "step 4035 - loss 4.26383113861084 - moving ave loss 5.042461212113996\n",
            "step 4036 - loss 4.660449981689453 - moving ave loss 5.004260089071542\n",
            "step 4037 - loss 5.507267951965332 - moving ave loss 5.054560875360921\n",
            "step 4038 - loss 4.664702415466309 - moving ave loss 5.01557502937146\n",
            "step 4039 - loss 4.176752090454102 - moving ave loss 4.931692735479724\n",
            "step 4040 - loss 5.644892692565918 - moving ave loss 5.003012731188344\n",
            "step 4041 - loss 3.9861459732055664 - moving ave loss 4.901326055390066\n",
            "step 4042 - loss 3.5271143913269043 - moving ave loss 4.76390488898375\n",
            "step 4043 - loss 5.2166290283203125 - moving ave loss 4.809177302917407\n",
            "step 4044 - loss 5.862575531005859 - moving ave loss 4.914517125726252\n",
            "step 4045 - loss 6.240466117858887 - moving ave loss 5.047112024939515\n",
            "step 4046 - loss 5.966644763946533 - moving ave loss 5.139065298840216\n",
            "step 4047 - loss 6.734465599060059 - moving ave loss 5.298605328862201\n",
            "step 4048 - loss 4.888429164886475 - moving ave loss 5.257587712464629\n",
            "step 4049 - loss 3.304685592651367 - moving ave loss 5.062297500483303\n",
            "step 4050 - loss 5.436674118041992 - moving ave loss 5.099735162239171\n",
            "step 4051 - loss 4.988685131072998 - moving ave loss 5.088630159122554\n",
            "step 4052 - loss 4.346756935119629 - moving ave loss 5.014442836722261\n",
            "step 4053 - loss 4.858180522918701 - moving ave loss 4.998816605341905\n",
            "step 4054 - loss 6.446356296539307 - moving ave loss 5.143570574461646\n",
            "step 4055 - loss 5.64800500869751 - moving ave loss 5.194014017885232\n",
            "step 4056 - loss 7.292329788208008 - moving ave loss 5.40384559491751\n",
            "step 4057 - loss 5.9041008949279785 - moving ave loss 5.453871124918557\n",
            "step 4058 - loss 5.112021446228027 - moving ave loss 5.419686157049504\n",
            "step 4059 - loss 5.669550895690918 - moving ave loss 5.4446726309136455\n",
            "step 4060 - loss 4.968139171600342 - moving ave loss 5.397019284982315\n",
            "step 4061 - loss 5.633072853088379 - moving ave loss 5.420624641792922\n",
            "step 4062 - loss 3.758148670196533 - moving ave loss 5.254377044633284\n",
            "Finish 1 epoch(es)\n",
            "step 4063 - loss 3.690356731414795 - moving ave loss 5.097975013311435\n",
            "step 4064 - loss 4.21254825592041 - moving ave loss 5.009432337572333\n",
            "step 4065 - loss 4.698013782501221 - moving ave loss 4.978290482065222\n",
            "step 4066 - loss 6.7326154708862305 - moving ave loss 5.1537229809473235\n",
            "step 4067 - loss 6.110842704772949 - moving ave loss 5.249434953329886\n",
            "step 4068 - loss 4.803956985473633 - moving ave loss 5.204887156544261\n",
            "step 4069 - loss 5.198667526245117 - moving ave loss 5.204265193514347\n",
            "step 4070 - loss 5.196861267089844 - moving ave loss 5.2035248008718975\n",
            "step 4071 - loss 5.690177917480469 - moving ave loss 5.252190112532755\n",
            "step 4072 - loss 5.635422706604004 - moving ave loss 5.2905133719398805\n",
            "step 4073 - loss 5.238924026489258 - moving ave loss 5.285354437394818\n",
            "step 4074 - loss 5.107522487640381 - moving ave loss 5.267571242419375\n",
            "step 4075 - loss 5.723410606384277 - moving ave loss 5.313155178815864\n",
            "step 4076 - loss 5.171652317047119 - moving ave loss 5.299004892638989\n",
            "step 4077 - loss 5.204569339752197 - moving ave loss 5.28956133735031\n",
            "step 4078 - loss 3.793511390686035 - moving ave loss 5.139956342683883\n",
            "step 4079 - loss 4.285007953643799 - moving ave loss 5.054461503779875\n",
            "step 4080 - loss 5.947384357452393 - moving ave loss 5.1437537891471266\n",
            "step 4081 - loss 6.830382347106934 - moving ave loss 5.312416644943108\n",
            "step 4082 - loss 4.107917785644531 - moving ave loss 5.19196675901325\n",
            "step 4083 - loss 4.580031871795654 - moving ave loss 5.130773270291491\n",
            "step 4084 - loss 5.029794692993164 - moving ave loss 5.120675412561659\n",
            "step 4085 - loss 3.7955808639526367 - moving ave loss 4.988165957700756\n",
            "step 4086 - loss 5.132564544677734 - moving ave loss 5.002605816398455\n",
            "step 4087 - loss 4.420285701751709 - moving ave loss 4.94437380493378\n",
            "step 4088 - loss 5.8385467529296875 - moving ave loss 5.033791099733371\n",
            "step 4089 - loss 4.798779487609863 - moving ave loss 5.01028993852102\n",
            "step 4090 - loss 4.751084804534912 - moving ave loss 4.984369425122409\n",
            "step 4091 - loss 4.8551506996154785 - moving ave loss 4.971447552571717\n",
            "step 4092 - loss 5.259064197540283 - moving ave loss 5.000209217068573\n",
            "step 4093 - loss 3.7613861560821533 - moving ave loss 4.876326910969931\n",
            "step 4094 - loss 3.2798426151275635 - moving ave loss 4.716678481385695\n",
            "step 4095 - loss 5.011573791503906 - moving ave loss 4.746168012397516\n",
            "step 4096 - loss 4.820538520812988 - moving ave loss 4.753605063239063\n",
            "step 4097 - loss 6.3355278968811035 - moving ave loss 4.911797346603267\n",
            "step 4098 - loss 4.994159698486328 - moving ave loss 4.920033581791573\n",
            "step 4099 - loss 3.8747425079345703 - moving ave loss 4.8155044744058735\n",
            "step 4100 - loss 6.449200630187988 - moving ave loss 4.978874089984085\n",
            "step 4101 - loss 5.6903276443481445 - moving ave loss 5.050019445420491\n",
            "step 4102 - loss 4.119132995605469 - moving ave loss 4.95693080043899\n",
            "step 4103 - loss 5.284144401550293 - moving ave loss 4.98965216055012\n",
            "step 4104 - loss 4.60605525970459 - moving ave loss 4.951292470465567\n",
            "step 4105 - loss 6.382792949676514 - moving ave loss 5.094442518386662\n",
            "step 4106 - loss 6.370847702026367 - moving ave loss 5.222083036750633\n",
            "step 4107 - loss 6.021703720092773 - moving ave loss 5.302045105084848\n",
            "step 4108 - loss 5.321945667266846 - moving ave loss 5.304035161303048\n",
            "step 4109 - loss 5.927052021026611 - moving ave loss 5.366336847275405\n",
            "step 4110 - loss 6.4819111824035645 - moving ave loss 5.477894280788221\n",
            "step 4111 - loss 4.740627288818359 - moving ave loss 5.404167581591235\n",
            "step 4112 - loss 4.959500312805176 - moving ave loss 5.359700854712629\n",
            "step 4113 - loss 6.835867881774902 - moving ave loss 5.507317557418856\n",
            "step 4114 - loss 5.329750061035156 - moving ave loss 5.489560807780486\n",
            "step 4115 - loss 3.929096221923828 - moving ave loss 5.33351434919482\n",
            "step 4116 - loss 5.996279716491699 - moving ave loss 5.399790885924508\n",
            "step 4117 - loss 3.8620219230651855 - moving ave loss 5.246013989638576\n",
            "step 4118 - loss 5.950848579406738 - moving ave loss 5.316497448615393\n",
            "step 4119 - loss 8.617759704589844 - moving ave loss 5.646623674212838\n",
            "step 4120 - loss 5.1418561935424805 - moving ave loss 5.596146926145803\n",
            "step 4121 - loss 3.977482795715332 - moving ave loss 5.434280513102756\n",
            "step 4122 - loss 4.496092796325684 - moving ave loss 5.340461741425049\n",
            "step 4123 - loss 6.557341575622559 - moving ave loss 5.462149724844799\n",
            "step 4124 - loss 5.236947536468506 - moving ave loss 5.43962950600717\n",
            "Finish 2 epoch(es)\n",
            "step 4125 - loss 6.52878475189209 - moving ave loss 5.548545030595663\n",
            "Checkpoint at step 4125\n",
            "step 4126 - loss 5.763919830322266 - moving ave loss 5.570082510568323\n",
            "step 4127 - loss 6.544634819030762 - moving ave loss 5.667537741414567\n",
            "step 4128 - loss 6.084210395812988 - moving ave loss 5.709205006854409\n",
            "step 4129 - loss 3.90018367767334 - moving ave loss 5.528302873936303\n",
            "step 4130 - loss 4.89219331741333 - moving ave loss 5.464691918284006\n",
            "step 4131 - loss 5.82603645324707 - moving ave loss 5.500826371780313\n",
            "step 4132 - loss 4.759488582611084 - moving ave loss 5.4266925928633905\n",
            "step 4133 - loss 4.040105819702148 - moving ave loss 5.288033915547266\n",
            "step 4134 - loss 5.179775238037109 - moving ave loss 5.27720804779625\n",
            "step 4135 - loss 5.062610149383545 - moving ave loss 5.255748257954981\n",
            "step 4136 - loss 4.924619197845459 - moving ave loss 5.222635351944029\n",
            "step 4137 - loss 6.17592191696167 - moving ave loss 5.317964008445793\n",
            "step 4138 - loss 5.317532539367676 - moving ave loss 5.317920861537982\n",
            "step 4139 - loss 5.731036186218262 - moving ave loss 5.3592323940060105\n",
            "step 4140 - loss 4.758185863494873 - moving ave loss 5.299127740954897\n",
            "step 4141 - loss 5.185240745544434 - moving ave loss 5.287739041413851\n",
            "step 4142 - loss 6.516424179077148 - moving ave loss 5.4106075551801815\n",
            "step 4143 - loss 6.131978511810303 - moving ave loss 5.482744650843194\n",
            "step 4144 - loss 4.577686309814453 - moving ave loss 5.39223881674032\n",
            "step 4145 - loss 3.8387339115142822 - moving ave loss 5.2368883262177155\n",
            "step 4146 - loss 4.797646522521973 - moving ave loss 5.1929641458481415\n",
            "step 4147 - loss 4.366062641143799 - moving ave loss 5.110273995377707\n",
            "step 4148 - loss 5.409401893615723 - moving ave loss 5.140186785201509\n",
            "step 4149 - loss 5.189396858215332 - moving ave loss 5.145107792502892\n",
            "step 4150 - loss 5.603973865509033 - moving ave loss 5.190994399803507\n",
            "step 4151 - loss 3.672025442123413 - moving ave loss 5.039097504035498\n",
            "step 4152 - loss 3.4046783447265625 - moving ave loss 4.875655588104605\n",
            "step 4153 - loss 5.284997940063477 - moving ave loss 4.916589823300493\n",
            "step 4154 - loss 4.605566024780273 - moving ave loss 4.88548744344847\n",
            "step 4155 - loss 5.3690948486328125 - moving ave loss 4.933848183966905\n",
            "step 4156 - loss 4.528904914855957 - moving ave loss 4.89335385705581\n",
            "step 4157 - loss 4.879443168640137 - moving ave loss 4.891962788214243\n",
            "step 4158 - loss 5.201841354370117 - moving ave loss 4.92295064482983\n",
            "step 4159 - loss 4.134839057922363 - moving ave loss 4.844139486139083\n",
            "step 4160 - loss 5.5752177238464355 - moving ave loss 4.917247309909818\n",
            "step 4161 - loss 5.747359752655029 - moving ave loss 5.000258554184339\n",
            "step 4162 - loss 6.552723407745361 - moving ave loss 5.155505039540442\n",
            "step 4163 - loss 4.59616756439209 - moving ave loss 5.099571292025606\n",
            "step 4164 - loss 5.416844367980957 - moving ave loss 5.131298599621141\n",
            "step 4165 - loss 6.652307510375977 - moving ave loss 5.283399490696625\n",
            "step 4166 - loss 3.8886241912841797 - moving ave loss 5.14392196075538\n",
            "step 4167 - loss 5.714804649353027 - moving ave loss 5.201010229615145\n",
            "step 4168 - loss 4.733979225158691 - moving ave loss 5.1543071291695\n",
            "step 4169 - loss 6.161662578582764 - moving ave loss 5.255042674110827\n",
            "step 4170 - loss 4.938052654266357 - moving ave loss 5.22334367212638\n",
            "step 4171 - loss 5.414395332336426 - moving ave loss 5.242448838147385\n",
            "step 4172 - loss 3.2634849548339844 - moving ave loss 5.044552449816045\n",
            "step 4173 - loss 5.882761001586914 - moving ave loss 5.128373304993133\n",
            "step 4174 - loss 4.630756855010986 - moving ave loss 5.078611659994918\n",
            "step 4175 - loss 6.015969276428223 - moving ave loss 5.172347421638248\n",
            "step 4176 - loss 4.7828264236450195 - moving ave loss 5.133395321838925\n",
            "step 4177 - loss 5.211941719055176 - moving ave loss 5.1412499615605505\n",
            "step 4178 - loss 4.694400787353516 - moving ave loss 5.0965650441398465\n",
            "step 4179 - loss 4.8790154457092285 - moving ave loss 5.074810084296784\n",
            "step 4180 - loss 4.629877090454102 - moving ave loss 5.030316784912515\n",
            "step 4181 - loss 6.427935600280762 - moving ave loss 5.17007866644934\n",
            "step 4182 - loss 6.239872932434082 - moving ave loss 5.277058093047815\n",
            "step 4183 - loss 6.229163646697998 - moving ave loss 5.372268648412834\n",
            "step 4184 - loss 4.981128692626953 - moving ave loss 5.333154652834246\n",
            "step 4185 - loss 5.441664695739746 - moving ave loss 5.3440056571247965\n",
            "step 4186 - loss 4.041725158691406 - moving ave loss 5.2137776072814574\n",
            "Finish 3 epoch(es)\n",
            "step 4187 - loss 5.864294052124023 - moving ave loss 5.278829251765714\n",
            "step 4188 - loss 4.417071342468262 - moving ave loss 5.192653460835969\n",
            "step 4189 - loss 4.931102752685547 - moving ave loss 5.1664983900209265\n",
            "step 4190 - loss 4.881490707397461 - moving ave loss 5.13799762175858\n",
            "step 4191 - loss 5.100789546966553 - moving ave loss 5.134276814279377\n",
            "step 4192 - loss 3.7675342559814453 - moving ave loss 4.997602558449584\n",
            "step 4193 - loss 7.041259288787842 - moving ave loss 5.20196823148341\n",
            "step 4194 - loss 5.746036529541016 - moving ave loss 5.25637506128917\n",
            "step 4195 - loss 4.676479339599609 - moving ave loss 5.198385489120215\n",
            "step 4196 - loss 4.196779727935791 - moving ave loss 5.098224913001772\n",
            "step 4197 - loss 4.118903160095215 - moving ave loss 5.000292737711116\n",
            "step 4198 - loss 4.7759480476379395 - moving ave loss 4.977858268703799\n",
            "step 4199 - loss 4.812228202819824 - moving ave loss 4.961295262115402\n",
            "step 4200 - loss 4.904150009155273 - moving ave loss 4.95558073681939\n",
            "step 4201 - loss 5.059262752532959 - moving ave loss 4.965948938390747\n",
            "step 4202 - loss 4.332929611206055 - moving ave loss 4.902647005672278\n",
            "step 4203 - loss 4.552454948425293 - moving ave loss 4.867627799947579\n",
            "step 4204 - loss 5.238484859466553 - moving ave loss 4.904713505899477\n",
            "step 4205 - loss 4.679673671722412 - moving ave loss 4.88220952248177\n",
            "step 4206 - loss 4.782351016998291 - moving ave loss 4.872223671933422\n",
            "step 4207 - loss 5.407504558563232 - moving ave loss 4.925751760596403\n",
            "step 4208 - loss 6.960361480712891 - moving ave loss 5.129212732608051\n",
            "step 4209 - loss 4.905655860900879 - moving ave loss 5.1068570454373345\n",
            "step 4210 - loss 5.123756408691406 - moving ave loss 5.108546981762742\n",
            "step 4211 - loss 6.760401725769043 - moving ave loss 5.273732456163372\n",
            "step 4212 - loss 5.388781547546387 - moving ave loss 5.285237365301674\n",
            "step 4213 - loss 4.666651725769043 - moving ave loss 5.223378801348411\n",
            "step 4214 - loss 3.943467140197754 - moving ave loss 5.095387635233346\n",
            "step 4215 - loss 4.534574031829834 - moving ave loss 5.039306274892994\n",
            "step 4216 - loss 4.857544898986816 - moving ave loss 5.021130137302377\n",
            "step 4217 - loss 5.772809982299805 - moving ave loss 5.0962981218021195\n",
            "step 4218 - loss 4.163911819458008 - moving ave loss 5.003059491567709\n",
            "step 4219 - loss 3.070988655090332 - moving ave loss 4.809852407919971\n",
            "step 4220 - loss 5.692903995513916 - moving ave loss 4.898157566679366\n",
            "step 4221 - loss 4.040358066558838 - moving ave loss 4.812377616667313\n",
            "step 4222 - loss 7.568470001220703 - moving ave loss 5.087986855122653\n",
            "step 4223 - loss 4.296411037445068 - moving ave loss 5.008829273354894\n",
            "step 4224 - loss 4.123305320739746 - moving ave loss 4.92027687809338\n",
            "step 4225 - loss 7.283219337463379 - moving ave loss 5.15657112403038\n",
            "step 4226 - loss 3.87402606010437 - moving ave loss 5.028316617637779\n",
            "step 4227 - loss 5.831194877624512 - moving ave loss 5.108604443636453\n",
            "step 4228 - loss 5.697504997253418 - moving ave loss 5.167494498998149\n",
            "step 4229 - loss 4.360289573669434 - moving ave loss 5.086774006465277\n",
            "step 4230 - loss 6.123043060302734 - moving ave loss 5.190400911849023\n",
            "step 4231 - loss 3.7533297538757324 - moving ave loss 5.046693796051695\n",
            "step 4232 - loss 4.286228179931641 - moving ave loss 4.9706472344396895\n",
            "step 4233 - loss 4.019967079162598 - moving ave loss 4.87557921891198\n",
            "step 4234 - loss 5.4422607421875 - moving ave loss 4.932247371239533\n",
            "step 4235 - loss 7.146782398223877 - moving ave loss 5.153700873937967\n",
            "step 4236 - loss 5.640244960784912 - moving ave loss 5.202355282622661\n",
            "step 4237 - loss 4.947671890258789 - moving ave loss 5.176886943386274\n",
            "step 4238 - loss 6.180517196655273 - moving ave loss 5.277249968713174\n",
            "step 4239 - loss 5.688451290130615 - moving ave loss 5.318370100854918\n",
            "step 4240 - loss 6.126875877380371 - moving ave loss 5.399220678507463\n",
            "step 4241 - loss 6.320428848266602 - moving ave loss 5.491341495483377\n",
            "step 4242 - loss 3.7995829582214355 - moving ave loss 5.322165641757183\n",
            "step 4243 - loss 5.488540172576904 - moving ave loss 5.338803094839156\n",
            "step 4244 - loss 5.590738773345947 - moving ave loss 5.363996662689835\n",
            "step 4245 - loss 4.764137268066406 - moving ave loss 5.304010723227492\n",
            "step 4246 - loss 4.975546836853027 - moving ave loss 5.271164334590046\n",
            "step 4247 - loss 7.5650458335876465 - moving ave loss 5.500552484489806\n",
            "step 4248 - loss 6.706463813781738 - moving ave loss 5.6211436174189995\n",
            "Finish 4 epoch(es)\n",
            "step 4249 - loss 4.5369873046875 - moving ave loss 5.512727986145849\n",
            "step 4250 - loss 6.857210159301758 - moving ave loss 5.64717620346144\n",
            "Checkpoint at step 4250\n",
            "step 4251 - loss 6.406289577484131 - moving ave loss 5.723087540863709\n",
            "step 4252 - loss 4.46492862701416 - moving ave loss 5.597271649478754\n",
            "step 4253 - loss 4.9269866943359375 - moving ave loss 5.530243153964473\n",
            "step 4254 - loss 6.902772903442383 - moving ave loss 5.667496128912264\n",
            "step 4255 - loss 3.836615562438965 - moving ave loss 5.484408072264934\n",
            "^C\n"
          ],
          "name": "stdout"
        }
      ]
    },
    {
      "metadata": {
        "id": "8VOhXY47uajP",
        "colab_type": "code",
        "colab": {
          "base_uri": "https://localhost:8080/",
          "height": 35
        },
        "outputId": "cf16ebc1-f325-40b8-a7bd-894591edc959"
      },
      "cell_type": "code",
      "source": [
        "%cd ../  "
      ],
      "execution_count": 68,
      "outputs": [
        {
          "output_type": "stream",
          "text": [
            "/content\n"
          ],
          "name": "stdout"
        }
      ]
    },
    {
      "metadata": {
        "id": "pDnPPhoTurTs",
        "colab_type": "code",
        "colab": {}
      },
      "cell_type": "code",
      "source": [
        "!unzip darkflow-master_annotation_3.0.zip\n"
      ],
      "execution_count": 0,
      "outputs": []
    },
    {
      "metadata": {
        "id": "I-jtrPi7uxt5",
        "colab_type": "code",
        "colab": {
          "base_uri": "https://localhost:8080/",
          "height": 1941
        },
        "outputId": "1d8380de-5625-49e0-f3da-ce82fff77209"
      },
      "cell_type": "code",
      "source": [
        "!python flow --model cfg/tiny-yolo-voc-5c.cfg --load -1 --train --annotation annotation --dataset dataset --epoch 500\n"
      ],
      "execution_count": 0,
      "outputs": [
        {
          "output_type": "stream",
          "text": [
            "\n",
            "Parsing cfg/tiny-yolo-voc-5c.cfg\n",
            "Loading None ...\n",
            "Finished in 7.62939453125e-05s\n",
            "\n",
            "Building net ...\n",
            "Source | Train? | Layer description                | Output size\n",
            "-------+--------+----------------------------------+---------------\n",
            "       |        | input                            | (?, 416, 416, 3)\n",
            " Init  |  Yep!  | conv 3x3p1_1  +bnorm  leaky      | (?, 416, 416, 16)\n",
            " Load  |  Yep!  | maxp 2x2p0_2                     | (?, 208, 208, 16)\n",
            " Init  |  Yep!  | conv 3x3p1_1  +bnorm  leaky      | (?, 208, 208, 32)\n",
            " Load  |  Yep!  | maxp 2x2p0_2                     | (?, 104, 104, 32)\n",
            " Init  |  Yep!  | conv 3x3p1_1  +bnorm  leaky      | (?, 104, 104, 64)\n",
            " Load  |  Yep!  | maxp 2x2p0_2                     | (?, 52, 52, 64)\n",
            " Init  |  Yep!  | conv 3x3p1_1  +bnorm  leaky      | (?, 52, 52, 128)\n",
            " Load  |  Yep!  | maxp 2x2p0_2                     | (?, 26, 26, 128)\n",
            " Init  |  Yep!  | conv 3x3p1_1  +bnorm  leaky      | (?, 26, 26, 256)\n",
            " Load  |  Yep!  | maxp 2x2p0_2                     | (?, 13, 13, 256)\n",
            " Init  |  Yep!  | conv 3x3p1_1  +bnorm  leaky      | (?, 13, 13, 512)\n",
            " Load  |  Yep!  | maxp 2x2p0_1                     | (?, 13, 13, 512)\n",
            " Init  |  Yep!  | conv 3x3p1_1  +bnorm  leaky      | (?, 13, 13, 1024)\n",
            " Init  |  Yep!  | conv 3x3p1_1  +bnorm  leaky      | (?, 13, 13, 1024)\n",
            " Init  |  Yep!  | conv 1x1p0_1    linear           | (?, 13, 13, 50)\n",
            "-------+--------+----------------------------------+---------------\n",
            "Running entirely on CPU\n",
            "cfg/tiny-yolo-voc-5c.cfg loss hyper-parameters:\n",
            "\tH       = 13\n",
            "\tW       = 13\n",
            "\tbox     = 5\n",
            "\tclasses = 5\n",
            "\tscales  = [1.0, 5.0, 1.0, 1.0]\n",
            "Building cfg/tiny-yolo-voc-5c.cfg loss\n",
            "Building cfg/tiny-yolo-voc-5c.cfg train op\n",
            "2018-10-29 21:06:51.612558: I tensorflow/core/common_runtime/gpu/gpu_device.cc:982] Device interconnect StreamExecutor with strength 1 edge matrix:\n",
            "2018-10-29 21:06:51.612611: I tensorflow/core/common_runtime/gpu/gpu_device.cc:988]      \n",
            "Loading from ./ckpt/tiny-yolo-voc-5c-5125\n",
            "Finished in 4.568249464035034s\n",
            "\n",
            "Enter training ...\n",
            "\n",
            "cfg/tiny-yolo-voc-5c.cfg parsing annotation\n",
            "Parsing for ['hat', 'boots', 'vest', 'person', 'gloves'] \n",
            "[====================>]100%  data_set588.xml\n",
            "Statistics:\n",
            "hat: 2029\n",
            "person: 2091\n",
            "gloves: 335\n",
            "boots: 385\n",
            "vest: 1070\n",
            "Dataset size: 1246\n",
            "Dataset of 1246 instance(s)\n",
            "Training statistics: \n",
            "\tLearning rate : 1e-05\n",
            "\tBatch size    : 16\n",
            "\tEpoch number  : 500\n",
            "\tBackup every  : 2000\n",
            "step 5126 - loss 5.389946937561035 - moving ave loss 5.389946937561036\n",
            "step 5127 - loss 5.929011344909668 - moving ave loss 5.443853378295899\n",
            "step 5128 - loss 6.182344913482666 - moving ave loss 5.517702531814576\n",
            "step 5129 - loss 4.188446998596191 - moving ave loss 5.384776978492738\n",
            "step 5130 - loss 6.438823223114014 - moving ave loss 5.490181602954865\n",
            "step 5131 - loss 6.372511863708496 - moving ave loss 5.578414629030228\n",
            "step 5132 - loss 6.206110954284668 - moving ave loss 5.641184261555673\n",
            "step 5133 - loss 5.843228340148926 - moving ave loss 5.661388669414999\n",
            "step 5134 - loss 5.999911308288574 - moving ave loss 5.695240933302356\n",
            "step 5135 - loss 5.140639305114746 - moving ave loss 5.639780770483595\n",
            "step 5136 - loss 8.166292190551758 - moving ave loss 5.892431912490411\n",
            "step 5137 - loss 5.796952247619629 - moving ave loss 5.882883946003333\n",
            "step 5138 - loss 9.522276878356934 - moving ave loss 6.246823239238694\n",
            "step 5139 - loss 7.708044528961182 - moving ave loss 6.392945368210943\n",
            "step 5140 - loss 6.545932769775391 - moving ave loss 6.408244108367388\n",
            "step 5141 - loss 4.421272277832031 - moving ave loss 6.209546925313853\n",
            "step 5142 - loss 5.435477256774902 - moving ave loss 6.132139958459957\n",
            "step 5143 - loss 6.1917853355407715 - moving ave loss 6.138104496168038\n",
            "step 5144 - loss 6.569731712341309 - moving ave loss 6.181267217785366\n",
            "step 5145 - loss 8.068412780761719 - moving ave loss 6.369981774083001\n",
            "step 5146 - loss 5.7651472091674805 - moving ave loss 6.30949831759145\n",
            "step 5147 - loss 5.634588241577148 - moving ave loss 6.24200730999002\n",
            "step 5148 - loss 5.13145637512207 - moving ave loss 6.130952216503226\n",
            "step 5149 - loss 7.353971004486084 - moving ave loss 6.253254095301512\n",
            "step 5150 - loss 7.437047958374023 - moving ave loss 6.371633481608763\n",
            "step 5151 - loss 6.8560872077941895 - moving ave loss 6.420078854227306\n",
            "step 5152 - loss 6.47920036315918 - moving ave loss 6.425991005120494\n",
            "step 5153 - loss 4.56577730178833 - moving ave loss 6.239969634787278\n",
            "step 5154 - loss 7.09665060043335 - moving ave loss 6.325637731351885\n",
            "step 5155 - loss 5.225254058837891 - moving ave loss 6.215599364100486\n",
            "step 5156 - loss 6.614931583404541 - moving ave loss 6.255532586030892\n",
            "step 5157 - loss 4.359585762023926 - moving ave loss 6.0659379036301955\n",
            "step 5158 - loss 4.196808815002441 - moving ave loss 5.87902499476742\n",
            "step 5159 - loss 6.514931678771973 - moving ave loss 5.942615663167876\n",
            "step 5160 - loss 5.030054092407227 - moving ave loss 5.8513595060918115\n",
            "step 5161 - loss 5.24808931350708 - moving ave loss 5.7910324868333385\n",
            "step 5162 - loss 5.210455894470215 - moving ave loss 5.732974827597027\n",
            "step 5163 - loss 4.273256301879883 - moving ave loss 5.587002975025313\n",
            "step 5164 - loss 2.957740306854248 - moving ave loss 5.3240767082082066\n",
            "step 5165 - loss 7.2951812744140625 - moving ave loss 5.521187164828793\n",
            "step 5166 - loss 7.122350692749023 - moving ave loss 5.681303517620815\n",
            "step 5167 - loss 4.8321709632873535 - moving ave loss 5.596390262187469\n",
            "step 5168 - loss 5.835776329040527 - moving ave loss 5.620328868872774\n",
            "step 5169 - loss 7.26290225982666 - moving ave loss 5.784586207968163\n",
            "step 5170 - loss 6.749394416809082 - moving ave loss 5.881067028852255\n",
            "step 5171 - loss 4.294081211090088 - moving ave loss 5.722368447076038\n",
            "step 5172 - loss 7.1680755615234375 - moving ave loss 5.866939158520778\n",
            "step 5173 - loss 4.099765300750732 - moving ave loss 5.690221772743773\n",
            "step 5174 - loss 6.249656677246094 - moving ave loss 5.746165263194006\n",
            "step 5175 - loss 5.452009677886963 - moving ave loss 5.716749704663302\n",
            "step 5176 - loss 4.352201461791992 - moving ave loss 5.580294880376171\n"
          ],
          "name": "stdout"
        }
      ]
    }
  ]
}