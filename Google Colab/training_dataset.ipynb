{
  "nbformat": 4,
  "nbformat_minor": 0,
  "metadata": {
    "colab": {
      "name": "Level4000.ipynb",
      "version": "0.3.2",
      "provenance": [],
      "collapsed_sections": [],
      "toc_visible": true,
      "include_colab_link": true
    },
    "kernelspec": {
      "name": "python3",
      "display_name": "Python 3"
    },
    "accelerator": "GPU"
  },
  "cells": [
    {
      "cell_type": "markdown",
      "metadata": {
        "id": "view-in-github",
        "colab_type": "text"
      },
      "source": [
        "<a href=\"https://colab.research.google.com/github/santoshmn26/Intro-to-YOLO/blob/master/Google%20Colab/training_dataset.ipynb\" target=\"_parent\"><img src=\"https://colab.research.google.com/assets/colab-badge.svg\" alt=\"Open In Colab\"/></a>"
      ]
    },
    {
      "metadata": {
        "id": "WKZrIPDQjiYk",
        "colab_type": "code",
        "colab": {}
      },
      "cell_type": "code",
      "source": [
        "rm -r sample_data\n"
      ],
      "execution_count": 0,
      "outputs": []
    },
    {
      "metadata": {
        "id": "4EuW3wUPXt0F",
        "colab_type": "code",
        "colab": {}
      },
      "cell_type": "code",
      "source": [
        "!ls"
      ],
      "execution_count": 0,
      "outputs": []
    },
    {
      "metadata": {
        "id": "ba21hRD_kiVr",
        "colab_type": "code",
        "colab": {
          "base_uri": "https://localhost:8080/",
          "height": 104
        },
        "outputId": "6f0b917b-f5a3-444e-9079-5bd65808279f"
      },
      "cell_type": "code",
      "source": [
        "!git clone https://github.com/thtrieu/darkflow"
      ],
      "execution_count": 8,
      "outputs": [
        {
          "output_type": "stream",
          "text": [
            "Cloning into 'darkflow'...\n",
            "remote: Enumerating objects: 2706, done.\u001b[K\n",
            "remote: Total 2706 (delta 0), reused 0 (delta 0), pack-reused 2706\u001b[K\n",
            "Receiving objects: 100% (2706/2706), 18.74 MiB | 37.78 MiB/s, done.\n",
            "Resolving deltas: 100% (1781/1781), done.\n"
          ],
          "name": "stdout"
        }
      ]
    },
    {
      "metadata": {
        "id": "kTKXWJMUqaTE",
        "colab_type": "code",
        "colab": {
          "base_uri": "https://localhost:8080/",
          "height": 35
        },
        "outputId": "4b3b6500-1c5f-4575-fa46-b2bcf71966c4"
      },
      "cell_type": "code",
      "source": [
        "%cd darkflow/"
      ],
      "execution_count": 10,
      "outputs": [
        {
          "output_type": "stream",
          "text": [
            "/content/darkflow\n"
          ],
          "name": "stdout"
        }
      ]
    },
    {
      "metadata": {
        "id": "9OgAXVqNVoPS",
        "colab_type": "code",
        "colab": {}
      },
      "cell_type": "code",
      "source": [
        "!pip install cython"
      ],
      "execution_count": 0,
      "outputs": []
    },
    {
      "metadata": {
        "id": "_OoJj2k2Yz7O",
        "colab_type": "code",
        "colab": {}
      },
      "cell_type": "code",
      "source": [
        "!python3 setup.py build_ext --inplace"
      ],
      "execution_count": 0,
      "outputs": []
    },
    {
      "metadata": {
        "id": "I42o_dHpVhWi",
        "colab_type": "code",
        "colab": {
          "base_uri": "https://localhost:8080/",
          "height": 35
        },
        "outputId": "cbd1651c-09ab-4eeb-86b3-73e54289f849"
      },
      "cell_type": "code",
      "source": [
        "%cd .."
      ],
      "execution_count": 14,
      "outputs": [
        {
          "output_type": "stream",
          "text": [
            "/content\n"
          ],
          "name": "stdout"
        }
      ]
    },
    {
      "metadata": {
        "id": "fa6sCb_GXvWQ",
        "colab_type": "code",
        "colab": {}
      },
      "cell_type": "code",
      "source": [
        "!unzip darkflow-master_annotation_4.0.zip\n"
      ],
      "execution_count": 0,
      "outputs": []
    },
    {
      "metadata": {
        "id": "acYcHpxfWwzY",
        "colab_type": "code",
        "colab": {}
      },
      "cell_type": "code",
      "source": [
        "mv annotation darkflow/"
      ],
      "execution_count": 0,
      "outputs": []
    },
    {
      "metadata": {
        "id": "nYJ_6YiKW13y",
        "colab_type": "code",
        "colab": {}
      },
      "cell_type": "code",
      "source": [
        "mv dataset darkflow"
      ],
      "execution_count": 0,
      "outputs": []
    },
    {
      "metadata": {
        "id": "lltUT88gWmKA",
        "colab_type": "text"
      },
      "cell_type": "markdown",
      "source": [
        "Upload the latest weights files from the ckpt folder"
      ]
    },
    {
      "metadata": {
        "id": "7t_l0GN_X5XP",
        "colab_type": "code",
        "colab": {}
      },
      "cell_type": "code",
      "source": [
        "mv tiny-yolo-voc-5c.cfg darkflow/cfg"
      ],
      "execution_count": 0,
      "outputs": []
    },
    {
      "metadata": {
        "id": "2yC8TQpZWHet",
        "colab_type": "code",
        "colab": {}
      },
      "cell_type": "code",
      "source": [
        "!mkdir darkflow/ckpt"
      ],
      "execution_count": 0,
      "outputs": []
    },
    {
      "metadata": {
        "id": "BTi_8xveWBFa",
        "colab_type": "code",
        "colab": {}
      },
      "cell_type": "code",
      "source": [
        "mv tiny-yolo-voc-5c-5250.index darkflow/ckpt"
      ],
      "execution_count": 0,
      "outputs": []
    },
    {
      "metadata": {
        "id": "a_uQImJMWKhF",
        "colab_type": "code",
        "colab": {}
      },
      "cell_type": "code",
      "source": [
        "mv tiny-yolo-voc-5c-5250.meta darkflow/ckpt"
      ],
      "execution_count": 0,
      "outputs": []
    },
    {
      "metadata": {
        "id": "kHPj26r9WMHj",
        "colab_type": "code",
        "colab": {}
      },
      "cell_type": "code",
      "source": [
        "mv tiny-yolo-voc-5c-5250.profile darkflow/ckpt"
      ],
      "execution_count": 0,
      "outputs": []
    },
    {
      "metadata": {
        "id": "n0_KS2jgYOse",
        "colab_type": "code",
        "colab": {}
      },
      "cell_type": "code",
      "source": [
        "mv tiny-yolo-voc-5c-5250.data-00000-of-00001 darkflow/ckpt"
      ],
      "execution_count": 0,
      "outputs": []
    },
    {
      "metadata": {
        "id": "3_MdiIdQsmWl",
        "colab_type": "code",
        "colab": {}
      },
      "cell_type": "code",
      "source": [
        "!mkdir darkflow/bin"
      ],
      "execution_count": 0,
      "outputs": []
    },
    {
      "metadata": {
        "id": "t4WbaJRYsiED",
        "colab_type": "code",
        "colab": {}
      },
      "cell_type": "code",
      "source": [
        "mv tiny-yolo-voc.weights darkflow/bin"
      ],
      "execution_count": 0,
      "outputs": []
    },
    {
      "metadata": {
        "id": "1M_MdGJIWOes",
        "colab_type": "code",
        "colab": {}
      },
      "cell_type": "code",
      "source": [
        "mv checkpoint darkflow/ckpt"
      ],
      "execution_count": 0,
      "outputs": []
    },
    {
      "metadata": {
        "id": "71ya36h6sbIa",
        "colab_type": "code",
        "colab": {}
      },
      "cell_type": "code",
      "source": [
        "rm -r darkflow/labels.txt"
      ],
      "execution_count": 0,
      "outputs": []
    },
    {
      "metadata": {
        "id": "s9QAQqbrsd_G",
        "colab_type": "code",
        "colab": {}
      },
      "cell_type": "code",
      "source": [
        "mv labels.txt darkflow"
      ],
      "execution_count": 0,
      "outputs": []
    },
    {
      "metadata": {
        "id": "f1y4PR61YhWk",
        "colab_type": "code",
        "colab": {
          "base_uri": "https://localhost:8080/",
          "height": 35
        },
        "outputId": "f37a87ee-fe53-43c6-dd9c-6cdf934dfd6c"
      },
      "cell_type": "code",
      "source": [
        "%cd darkflow/"
      ],
      "execution_count": 30,
      "outputs": [
        {
          "output_type": "stream",
          "text": [
            "/content/darkflow\n"
          ],
          "name": "stdout"
        }
      ]
    },
    {
      "metadata": {
        "id": "iwV_FmHraqPK",
        "colab_type": "code",
        "colab": {
          "base_uri": "https://localhost:8080/",
          "height": 4211
        },
        "outputId": "1f83fd4f-1d80-44ab-e18c-a97696bc1355"
      },
      "cell_type": "code",
      "source": [
        "!python flow --model cfg/tiny-yolo-voc-5c.cfg --load -1 --train --annotation annotation --dataset dataset --lr 1e-07 --batch 40 --gpu 1.0 --epoch 500\n"
      ],
      "execution_count": 0,
      "outputs": [
        {
          "output_type": "stream",
          "text": [
            "\n",
            "Parsing cfg/tiny-yolo-voc-5c.cfg\n",
            "Loading None ...\n",
            "Finished in 8.654594421386719e-05s\n",
            "\n",
            "Building net ...\n",
            "Source | Train? | Layer description                | Output size\n",
            "-------+--------+----------------------------------+---------------\n",
            "       |        | input                            | (?, 416, 416, 3)\n",
            " Init  |  Yep!  | conv 3x3p1_1  +bnorm  leaky      | (?, 416, 416, 16)\n",
            " Load  |  Yep!  | maxp 2x2p0_2                     | (?, 208, 208, 16)\n",
            " Init  |  Yep!  | conv 3x3p1_1  +bnorm  leaky      | (?, 208, 208, 32)\n",
            " Load  |  Yep!  | maxp 2x2p0_2                     | (?, 104, 104, 32)\n",
            " Init  |  Yep!  | conv 3x3p1_1  +bnorm  leaky      | (?, 104, 104, 64)\n",
            " Load  |  Yep!  | maxp 2x2p0_2                     | (?, 52, 52, 64)\n",
            " Init  |  Yep!  | conv 3x3p1_1  +bnorm  leaky      | (?, 52, 52, 128)\n",
            " Load  |  Yep!  | maxp 2x2p0_2                     | (?, 26, 26, 128)\n",
            " Init  |  Yep!  | conv 3x3p1_1  +bnorm  leaky      | (?, 26, 26, 256)\n",
            " Load  |  Yep!  | maxp 2x2p0_2                     | (?, 13, 13, 256)\n",
            " Init  |  Yep!  | conv 3x3p1_1  +bnorm  leaky      | (?, 13, 13, 512)\n",
            " Load  |  Yep!  | maxp 2x2p0_1                     | (?, 13, 13, 512)\n",
            " Init  |  Yep!  | conv 3x3p1_1  +bnorm  leaky      | (?, 13, 13, 1024)\n",
            " Init  |  Yep!  | conv 3x3p1_1  +bnorm  leaky      | (?, 13, 13, 1024)\n",
            " Init  |  Yep!  | conv 1x1p0_1    linear           | (?, 13, 13, 50)\n",
            "-------+--------+----------------------------------+---------------\n",
            "GPU mode with 1.0 usage\n",
            "cfg/tiny-yolo-voc-5c.cfg loss hyper-parameters:\n",
            "\tH       = 13\n",
            "\tW       = 13\n",
            "\tbox     = 5\n",
            "\tclasses = 5\n",
            "\tscales  = [1.0, 5.0, 1.0, 1.0]\n",
            "Building cfg/tiny-yolo-voc-5c.cfg loss\n",
            "Building cfg/tiny-yolo-voc-5c.cfg train op\n",
            "2018-10-31 19:59:35.989799: I tensorflow/stream_executor/cuda/cuda_gpu_executor.cc:964] successful NUMA node read from SysFS had negative value (-1), but there must be at least one NUMA node, so returning NUMA node zero\n",
            "2018-10-31 19:59:35.990285: I tensorflow/core/common_runtime/gpu/gpu_device.cc:1432] Found device 0 with properties: \n",
            "name: Tesla K80 major: 3 minor: 7 memoryClockRate(GHz): 0.8235\n",
            "pciBusID: 0000:00:04.0\n",
            "totalMemory: 11.17GiB freeMemory: 11.10GiB\n",
            "2018-10-31 19:59:35.990330: I tensorflow/core/common_runtime/gpu/gpu_device.cc:1511] Adding visible gpu devices: 0\n",
            "2018-10-31 19:59:36.314910: I tensorflow/core/common_runtime/gpu/gpu_device.cc:982] Device interconnect StreamExecutor with strength 1 edge matrix:\n",
            "2018-10-31 19:59:36.314981: I tensorflow/core/common_runtime/gpu/gpu_device.cc:988]      0 \n",
            "2018-10-31 19:59:36.315010: I tensorflow/core/common_runtime/gpu/gpu_device.cc:1001] 0:   N \n",
            "2018-10-31 19:59:36.315322: W tensorflow/core/common_runtime/gpu/gpu_bfc_allocator.cc:42] Overriding allow_growth setting because the TF_FORCE_GPU_ALLOW_GROWTH environment variable is set. Original config value was 0.\n",
            "2018-10-31 19:59:36.315389: I tensorflow/core/common_runtime/gpu/gpu_device.cc:1115] Created TensorFlow device (/job:localhost/replica:0/task:0/device:GPU:0 with 11441 MB memory) -> physical GPU (device: 0, name: Tesla K80, pci bus id: 0000:00:04.0, compute capability: 3.7)\n",
            "Loading from ./ckpt/tiny-yolo-voc-5c-5250\n",
            "Finished in 5.23326301574707s\n",
            "\n",
            "Enter training ...\n",
            "\n",
            "cfg/tiny-yolo-voc-5c.cfg parsing annotation\n",
            "Parsing for ['hat', 'boots', 'vest', 'person', 'gloves'] \n",
            "[====================>]100%  frames_v (46).xml\n",
            "Statistics:\n",
            "vest: 1344\n",
            "hat: 2347\n",
            "boots: 509\n",
            "person: 2467\n",
            "gloves: 573\n",
            "Dataset size: 1432\n",
            "Dataset of 1432 instance(s)\n",
            "Training statistics: \n",
            "\tLearning rate : 1e-07\n",
            "\tBatch size    : 40\n",
            "\tEpoch number  : 500\n",
            "\tBackup every  : 2000\n",
            "step 5251 - loss 7.914198875427246 - moving ave loss 7.914198875427247\n",
            "step 5252 - loss 5.740351676940918 - moving ave loss 7.696814155578614\n",
            "step 5253 - loss 6.129915237426758 - moving ave loss 7.5401242637634285\n",
            "step 5254 - loss 7.852646827697754 - moving ave loss 7.5713765201568615\n",
            "step 5255 - loss 6.284506797790527 - moving ave loss 7.442689547920228\n",
            "step 5256 - loss 5.230799198150635 - moving ave loss 7.221500512943269\n",
            "step 5257 - loss 6.0279669761657715 - moving ave loss 7.102147159265519\n",
            "step 5258 - loss 6.358420372009277 - moving ave loss 7.027774480539896\n",
            "step 5259 - loss 5.358068943023682 - moving ave loss 6.860803926788274\n",
            "step 5260 - loss 6.031744956970215 - moving ave loss 6.777898029806468\n",
            "step 5261 - loss 5.563197135925293 - moving ave loss 6.65642794041835\n",
            "step 5262 - loss 5.929376125335693 - moving ave loss 6.583722758910085\n",
            "step 5263 - loss 6.873114109039307 - moving ave loss 6.612661893923007\n",
            "step 5264 - loss 5.333771228790283 - moving ave loss 6.484772827409735\n",
            "step 5265 - loss 6.984271049499512 - moving ave loss 6.534722649618713\n",
            "step 5266 - loss 6.089819431304932 - moving ave loss 6.490232327787336\n",
            "step 5267 - loss 8.107181549072266 - moving ave loss 6.651927249915829\n",
            "step 5268 - loss 7.699143886566162 - moving ave loss 6.756648913580863\n",
            "step 5269 - loss 7.415863990783691 - moving ave loss 6.822570421301146\n",
            "step 5270 - loss 6.242303371429443 - moving ave loss 6.764543716313976\n",
            "step 5271 - loss 6.084284782409668 - moving ave loss 6.696517822923545\n",
            "step 5272 - loss 6.4324798583984375 - moving ave loss 6.670114026471035\n",
            "step 5273 - loss 6.955031394958496 - moving ave loss 6.698605763319781\n",
            "step 5274 - loss 5.341170787811279 - moving ave loss 6.562862265768931\n",
            "step 5275 - loss 6.912972927093506 - moving ave loss 6.597873331901389\n",
            "step 5276 - loss 6.840174674987793 - moving ave loss 6.622103466210029\n",
            "step 5277 - loss 6.883333683013916 - moving ave loss 6.648226487890417\n",
            "step 5278 - loss 5.9273762702941895 - moving ave loss 6.576141466130795\n",
            "step 5279 - loss 6.008970260620117 - moving ave loss 6.519424345579727\n",
            "step 5280 - loss 7.313089847564697 - moving ave loss 6.598790895778224\n",
            "step 5281 - loss 6.32348108291626 - moving ave loss 6.571259914492027\n",
            "step 5282 - loss 7.027809143066406 - moving ave loss 6.616914837349466\n",
            "step 5283 - loss 7.186437129974365 - moving ave loss 6.6738670666119555\n",
            "step 5284 - loss 6.168511867523193 - moving ave loss 6.6233315467030796\n",
            "step 5285 - loss 6.060999870300293 - moving ave loss 6.567098379062801\n",
            "Finish 1 epoch(es)\n",
            "step 5286 - loss 5.370476722717285 - moving ave loss 6.44743621342825\n",
            "step 5287 - loss 6.282761573791504 - moving ave loss 6.430968749464575\n",
            "step 5288 - loss 5.543360710144043 - moving ave loss 6.342207945532522\n",
            "step 5289 - loss 6.476145267486572 - moving ave loss 6.355601677727927\n",
            "step 5290 - loss 6.158962726593018 - moving ave loss 6.335937782614436\n",
            "step 5291 - loss 4.501005172729492 - moving ave loss 6.152444521625942\n",
            "step 5292 - loss 5.989649772644043 - moving ave loss 6.1361650467277515\n",
            "step 5293 - loss 8.012350082397461 - moving ave loss 6.323783550294722\n",
            "step 5294 - loss 7.243695259094238 - moving ave loss 6.4157747211746745\n",
            "step 5295 - loss 6.928647041320801 - moving ave loss 6.467061953189287\n",
            "step 5296 - loss 7.26276159286499 - moving ave loss 6.546631917156858\n",
            "step 5297 - loss 6.037576198577881 - moving ave loss 6.49572634529896\n",
            "step 5298 - loss 6.598213195800781 - moving ave loss 6.505975030349142\n",
            "step 5299 - loss 6.993281364440918 - moving ave loss 6.55470566375832\n",
            "step 5300 - loss 6.321173191070557 - moving ave loss 6.531352416489543\n",
            "Checkpoint at step 5300\n",
            "step 5301 - loss 8.088854789733887 - moving ave loss 6.687102653813978\n",
            "step 5302 - loss 7.130937099456787 - moving ave loss 6.73148609837826\n",
            "step 5303 - loss 5.02722692489624 - moving ave loss 6.561060181030058\n",
            "step 5304 - loss 7.676626205444336 - moving ave loss 6.6726167834714865\n",
            "step 5305 - loss 8.018617630004883 - moving ave loss 6.807216868124827\n",
            "step 5306 - loss 5.666151523590088 - moving ave loss 6.693110333671353\n",
            "step 5307 - loss 7.131726264953613 - moving ave loss 6.736971926799579\n",
            "step 5308 - loss 6.050877571105957 - moving ave loss 6.668362491230217\n",
            "step 5309 - loss 6.450323581695557 - moving ave loss 6.646558600276751\n",
            "step 5310 - loss 6.737174034118652 - moving ave loss 6.655620143660942\n",
            "step 5311 - loss 7.8862810134887695 - moving ave loss 6.778686230643725\n",
            "step 5312 - loss 6.575333118438721 - moving ave loss 6.758350919423225\n",
            "step 5313 - loss 6.93227481842041 - moving ave loss 6.7757433093229436\n",
            "step 5314 - loss 6.808241367340088 - moving ave loss 6.778993115124658\n",
            "step 5315 - loss 4.813272953033447 - moving ave loss 6.582421098915537\n",
            "step 5316 - loss 6.208651065826416 - moving ave loss 6.545044095606626\n",
            "step 5317 - loss 5.969516754150391 - moving ave loss 6.487491361461003\n",
            "step 5318 - loss 5.69972562789917 - moving ave loss 6.408714788104819\n",
            "step 5319 - loss 6.47320556640625 - moving ave loss 6.415163865934963\n",
            "step 5320 - loss 6.088697910308838 - moving ave loss 6.38251727037235\n",
            "Finish 2 epoch(es)\n",
            "step 5321 - loss 7.739210605621338 - moving ave loss 6.518186603897249\n",
            "step 5322 - loss 5.6023945808410645 - moving ave loss 6.426607401591631\n",
            "step 5323 - loss 5.249238967895508 - moving ave loss 6.308870558222019\n",
            "step 5324 - loss 5.829761028289795 - moving ave loss 6.260959605228797\n",
            "step 5325 - loss 6.968084812164307 - moving ave loss 6.331672125922348\n",
            "step 5326 - loss 7.082459449768066 - moving ave loss 6.40675085830692\n",
            "step 5327 - loss 7.793839931488037 - moving ave loss 6.545459765625033\n",
            "step 5328 - loss 5.858043193817139 - moving ave loss 6.476718108444243\n",
            "step 5329 - loss 7.811932563781738 - moving ave loss 6.610239553977992\n",
            "step 5330 - loss 6.784310340881348 - moving ave loss 6.627646632668328\n",
            "step 5331 - loss 5.170444488525391 - moving ave loss 6.481926418254035\n",
            "step 5332 - loss 5.916682243347168 - moving ave loss 6.425402000763348\n",
            "step 5333 - loss 6.233067512512207 - moving ave loss 6.406168551938234\n",
            "step 5334 - loss 7.9332146644592285 - moving ave loss 6.558873163190334\n",
            "step 5335 - loss 7.42290735244751 - moving ave loss 6.645276582116052\n",
            "step 5336 - loss 5.97999382019043 - moving ave loss 6.57874830592349\n",
            "step 5337 - loss 5.707335472106934 - moving ave loss 6.491607022541834\n",
            "step 5338 - loss 6.236666202545166 - moving ave loss 6.466112940542168\n",
            "step 5339 - loss 6.978079795837402 - moving ave loss 6.517309626071691\n",
            "step 5340 - loss 6.166630268096924 - moving ave loss 6.482241690274215\n",
            "step 5341 - loss 4.978794574737549 - moving ave loss 6.331896978720549\n",
            "step 5342 - loss 6.5871381759643555 - moving ave loss 6.357421098444929\n",
            "step 5343 - loss 7.969001770019531 - moving ave loss 6.5185791656023895\n",
            "step 5344 - loss 5.809201240539551 - moving ave loss 6.447641373096106\n",
            "step 5345 - loss 5.883543014526367 - moving ave loss 6.391231537239133\n",
            "step 5346 - loss 5.251894474029541 - moving ave loss 6.277297830918173\n",
            "step 5347 - loss 6.81616735458374 - moving ave loss 6.33118478328473\n",
            "step 5348 - loss 6.008947849273682 - moving ave loss 6.298961089883626\n",
            "step 5349 - loss 7.465091705322266 - moving ave loss 6.41557415142749\n",
            "step 5350 - loss 5.803808689117432 - moving ave loss 6.3543976051964846\n",
            "Checkpoint at step 5350\n",
            "step 5351 - loss 7.39544677734375 - moving ave loss 6.458502522411211\n",
            "step 5352 - loss 8.414462089538574 - moving ave loss 6.654098479123948\n",
            "step 5353 - loss 6.528444766998291 - moving ave loss 6.641533107911382\n",
            "step 5354 - loss 7.619378089904785 - moving ave loss 6.739317606110722\n",
            "step 5355 - loss 6.703944206237793 - moving ave loss 6.735780266123429\n",
            "Finish 3 epoch(es)\n",
            "step 5356 - loss 5.457832336425781 - moving ave loss 6.607985473153665\n",
            "step 5357 - loss 5.60469388961792 - moving ave loss 6.507656314800091\n",
            "step 5358 - loss 7.7236223220825195 - moving ave loss 6.629252915528334\n",
            "step 5359 - loss 6.397988796234131 - moving ave loss 6.606126503598914\n",
            "step 5360 - loss 5.424433708190918 - moving ave loss 6.487957224058114\n",
            "step 5361 - loss 8.023946762084961 - moving ave loss 6.6415561778607985\n",
            "step 5362 - loss 4.570637226104736 - moving ave loss 6.434464282685192\n",
            "step 5363 - loss 7.943436622619629 - moving ave loss 6.585361516678636\n",
            "step 5364 - loss 6.226651668548584 - moving ave loss 6.54949053186563\n",
            "step 5365 - loss 6.72507905960083 - moving ave loss 6.567049384639151\n",
            "step 5366 - loss 9.07050895690918 - moving ave loss 6.8173953418661535\n",
            "step 5367 - loss 6.199613571166992 - moving ave loss 6.755617164796238\n",
            "step 5368 - loss 5.551554203033447 - moving ave loss 6.63521086861996\n",
            "step 5369 - loss 6.264128684997559 - moving ave loss 6.59810265025772\n",
            "step 5370 - loss 5.705925941467285 - moving ave loss 6.508884979378676\n",
            "step 5371 - loss 6.6700758934021 - moving ave loss 6.525004070781019\n",
            "step 5372 - loss 6.629678249359131 - moving ave loss 6.535471488638831\n",
            "step 5373 - loss 5.945455074310303 - moving ave loss 6.476469847205979\n",
            "step 5374 - loss 6.530608177185059 - moving ave loss 6.481883680203888\n",
            "step 5375 - loss 8.185346603393555 - moving ave loss 6.652229972522854\n",
            "step 5376 - loss 6.010798454284668 - moving ave loss 6.588086820699036\n",
            "step 5377 - loss 7.157034397125244 - moving ave loss 6.644981578341658\n",
            "step 5378 - loss 5.043282508850098 - moving ave loss 6.484811671392502\n",
            "step 5379 - loss 6.542700290679932 - moving ave loss 6.4906005333212455\n",
            "step 5380 - loss 5.406623840332031 - moving ave loss 6.382202864022324\n",
            "step 5381 - loss 8.350187301635742 - moving ave loss 6.579001307783667\n",
            "step 5382 - loss 6.8516645431518555 - moving ave loss 6.6062676313204864\n",
            "step 5383 - loss 5.284196376800537 - moving ave loss 6.474060505868492\n",
            "step 5384 - loss 7.180403232574463 - moving ave loss 6.544694778539089\n",
            "step 5385 - loss 6.67846155166626 - moving ave loss 6.558071455851806\n",
            "step 5386 - loss 7.0124616622924805 - moving ave loss 6.603510476495874\n",
            "step 5387 - loss 6.509403228759766 - moving ave loss 6.594099751722264\n",
            "step 5388 - loss 6.757415771484375 - moving ave loss 6.610431353698475\n",
            "step 5389 - loss 6.09982967376709 - moving ave loss 6.559371185705337\n",
            "step 5390 - loss 6.510002136230469 - moving ave loss 6.55443428075785\n",
            "Finish 4 epoch(es)\n",
            "step 5391 - loss 7.01821231842041 - moving ave loss 6.600812084524107\n",
            "step 5392 - loss 7.405282497406006 - moving ave loss 6.681259125812297\n",
            "step 5393 - loss 6.629604339599609 - moving ave loss 6.676093647191029\n",
            "step 5394 - loss 7.466960906982422 - moving ave loss 6.755180373170168\n",
            "step 5395 - loss 6.025404930114746 - moving ave loss 6.682202828864626\n",
            "step 5396 - loss 5.822419166564941 - moving ave loss 6.596224462634658\n",
            "step 5397 - loss 6.053330898284912 - moving ave loss 6.541935106199683\n",
            "step 5398 - loss 6.863011360168457 - moving ave loss 6.5740427315965615\n",
            "step 5399 - loss 8.288167953491211 - moving ave loss 6.745455253786027\n",
            "step 5400 - loss 5.562802791595459 - moving ave loss 6.627190007566971\n",
            "Checkpoint at step 5400\n",
            "step 5401 - loss 7.343070983886719 - moving ave loss 6.6987781051989455\n",
            "step 5402 - loss 6.6102800369262695 - moving ave loss 6.689928298371678\n",
            "step 5403 - loss 7.856058597564697 - moving ave loss 6.80654132829098\n",
            "step 5404 - loss 9.09872055053711 - moving ave loss 7.035759250515594\n",
            "step 5405 - loss 6.903542518615723 - moving ave loss 7.022537577325607\n",
            "step 5406 - loss 6.429953098297119 - moving ave loss 6.963279129422758\n",
            "step 5407 - loss 5.873726844787598 - moving ave loss 6.854323900959242\n",
            "step 5408 - loss 6.0616912841796875 - moving ave loss 6.775060639281287\n",
            "step 5409 - loss 7.557773590087891 - moving ave loss 6.853331934361948\n",
            "step 5410 - loss 5.858342170715332 - moving ave loss 6.753832957997286\n",
            "step 5411 - loss 6.467312812805176 - moving ave loss 6.725180943478075\n",
            "step 5412 - loss 6.753625392913818 - moving ave loss 6.72802538842165\n",
            "step 5413 - loss 6.009134769439697 - moving ave loss 6.656136326523455\n",
            "step 5414 - loss 5.672904014587402 - moving ave loss 6.55781309532985\n",
            "step 5415 - loss 6.157374382019043 - moving ave loss 6.517769223998769\n",
            "step 5416 - loss 5.397088527679443 - moving ave loss 6.405701154366837\n"
          ],
          "name": "stdout"
        }
      ]
    }
  ]
}